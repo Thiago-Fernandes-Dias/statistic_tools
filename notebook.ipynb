{
 "cells": [
  {
   "cell_type": "code",
   "execution_count": 1,
   "metadata": {},
   "outputs": [],
   "source": [
    "import math\n",
    "import random"
   ]
  },
  {
   "cell_type": "code",
   "execution_count": 2,
   "metadata": {},
   "outputs": [],
   "source": [
    "def sum(data: list[float]) -> float:\n",
    "    result = 0\n",
    "    for item in data:\n",
    "        result += item\n",
    "    return result"
   ]
  },
  {
   "cell_type": "code",
   "execution_count": 3,
   "metadata": {},
   "outputs": [],
   "source": [
    "def average(data: list[float]) -> float:\n",
    "    return (1 / len(data)) * sum(data)"
   ]
  },
  {
   "cell_type": "code",
   "execution_count": 4,
   "metadata": {},
   "outputs": [],
   "source": [
    "def standard_deviation(data: list[float]) -> float:\n",
    "    deviations = []\n",
    "    mean = average(data)\n",
    "    for item in data:\n",
    "        deviations.append(math.pow(item - mean, 2))\n",
    "    deviations_sum = sum(deviations)\n",
    "    return math.sqrt(deviations_sum / (len(data) - 1))"
   ]
  },
  {
   "cell_type": "code",
   "execution_count": 5,
   "metadata": {},
   "outputs": [],
   "source": [
    "def standard_deviation_from_the_mean(data: list[float]) -> float:\n",
    "    return standard_deviation(data) / math.sqrt(len(data))"
   ]
  },
  {
   "cell_type": "code",
   "execution_count": 6,
   "metadata": {},
   "outputs": [],
   "source": [
    "from ctypes import ArgumentError\n",
    "\n",
    "def mmq_sigma_square(y_errors: list[float]) -> float:\n",
    "    items_to_sum = [1 / i ** 2 for i in y_errors]\n",
    "    return sum(items_to_sum)\n",
    "\n",
    "def mmq_x(xs: list[float], y_errors: list[float]) -> float:\n",
    "    if (len(xs) != len(y_errors)):\n",
    "        raise ArgumentError(xs)\n",
    "    items_to_sum = []\n",
    "    for xi, y_error_i in zip(xs, y_errors):\n",
    "        items_to_sum.append(xi / y_error_i ** 2)\n",
    "    return (1 / mmq_sigma_square(y_errors)) * sum(items_to_sum)\n",
    "\n",
    "def mmq_x_square(xs: list[float], y_errors: list[float]) -> float:\n",
    "    if (len(xs) != len(y_errors)):\n",
    "        raise ArgumentError(xs)\n",
    "    items_to_sum = []\n",
    "    for xi, y_error_i in zip(xs, y_errors):\n",
    "        items_to_sum.append(xi ** 2 / y_error_i ** 2)\n",
    "    return (1 / mmq_sigma_square(y_errors)) * sum(items_to_sum)\n",
    "\n",
    "def mmq_y(ys: list[float], y_errors: list[float]) -> float:\n",
    "    if (len(ys) != len(y_errors)):\n",
    "        raise ArgumentError(ys, y_errors)\n",
    "    items_to_sum = []\n",
    "    for yi, y_error_i in zip(ys, y_errors):\n",
    "        items_to_sum.append(yi / y_error_i ** 2)\n",
    "    return (1 / mmq_sigma_square(y_errors)) * sum(items_to_sum) \n",
    "\n",
    "def mmq_xy(xs: list[float], ys: list[float], y_errors: list[float]) -> float:\n",
    "    if (not (len(xs) == len(ys) and len(ys) == len(y_errors))):\n",
    "        raise ArgumentError(ys, xs, y_errors)\n",
    "    items_to_sum = []\n",
    "    for xi, yi, y_error_i in zip(xs, ys, y_errors):\n",
    "        items_to_sum.append(xi * yi / y_error_i ** 2)\n",
    "    return (1 / mmq_sigma_square(y_errors)) * sum(items_to_sum)\n",
    "\n",
    "def a(xs: list[float], ys: list[float], y_errors: list[float]) -> float:\n",
    "    x = mmq_x(xs, y_errors)\n",
    "    y = mmq_y(ys, y_errors)\n",
    "    xy = mmq_xy(xs, ys, y_errors)\n",
    "    x_square = mmq_x_square(xs, y_errors)\n",
    "    return (x * y - xy) / (x ** 2 - x_square)\n",
    "\n",
    "def b(xs: list[float], ys: list[float], y_errors: list[float]) -> float:\n",
    "    return mmq_y(ys, y_errors) - a(xs, ys, y_errors) * mmq_x(xs, y_errors)\n",
    "\n",
    "def a_error(xs: list[float], y_errors: list[float]) -> float:\n",
    "    sigma_square = mmq_sigma_square(y_errors)\n",
    "    x = mmq_x(xs, y_errors)\n",
    "    x_square = mmq_x_square(xs, y_errors)\n",
    "    return math.sqrt((1 / sigma_square) / (x_square - x ** 2))\n",
    "\n",
    "def b_error(xs: list[float], y_errors: list[float]) -> float:\n",
    "    sigma_square = mmq_sigma_square(y_errors)\n",
    "    x = mmq_x(xs, y_errors)\n",
    "    x_square = mmq_x_square(xs, y_errors)\n",
    "    return math.sqrt((x_square / sigma_square) / (x_square - x ** 2))"
   ]
  }
 ],
 "metadata": {
  "kernelspec": {
   "display_name": "Python 3",
   "language": "python",
   "name": "python3"
  },
  "language_info": {
   "codemirror_mode": {
    "name": "ipython",
    "version": 3
   },
   "file_extension": ".py",
   "mimetype": "text/x-python",
   "name": "python",
   "nbconvert_exporter": "python",
   "pygments_lexer": "ipython3",
   "version": "3.12.2"
  }
 },
 "nbformat": 4,
 "nbformat_minor": 2
}
