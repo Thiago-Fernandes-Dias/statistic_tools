{
 "cells": [
  {
   "cell_type": "code",
   "execution_count": 1,
   "metadata": {},
   "outputs": [],
   "source": [
    "import math\n",
    "import random"
   ]
  },
  {
   "cell_type": "code",
   "execution_count": 2,
   "metadata": {},
   "outputs": [],
   "source": [
    "def sum(data: list[float]) -> float:\n",
    "    result = 0\n",
    "    for item in data:\n",
    "        result += item\n",
    "    return result"
   ]
  },
  {
   "cell_type": "code",
   "execution_count": 3,
   "metadata": {},
   "outputs": [],
   "source": [
    "def average(data: list[float]) -> float:\n",
    "    return (1 / len(data)) * sum(data)"
   ]
  },
  {
   "cell_type": "code",
   "execution_count": 4,
   "metadata": {},
   "outputs": [],
   "source": [
    "def standard_deviation(data: list[float]) -> float:\n",
    "    deviations = []\n",
    "    mean = average(data)\n",
    "    for item in data:\n",
    "        deviations.append(math.pow(item - mean, 2))\n",
    "    deviations_sum = sum(deviations)\n",
    "    return math.sqrt(deviations_sum / len(data))"
   ]
  },
  {
   "cell_type": "code",
   "execution_count": 5,
   "metadata": {},
   "outputs": [],
   "source": [
    "def standard_deviation_from_the_mean(data: list[float]) -> float:\n",
    "    return standard_deviation(data) / math.sqrt(len(data))"
   ]
  },
  {
   "cell_type": "code",
   "execution_count": 6,
   "metadata": {},
   "outputs": [
    {
     "name": "stdout",
     "output_type": "stream",
     "text": [
      "Média de L: 23.0\n",
      "Desvio padrão da média: 0.14142135623730984\n"
     ]
    }
   ],
   "source": [
    "# Teste\n",
    "\n",
    "data = [23.0, 22.7, 23.3]\n",
    "print(f\"Média de L: {average(data)}\")\n",
    "print(f\"Desvio padrão da média: {standard_deviation_from_the_mean(data)}\")"
   ]
  },
  {
   "cell_type": "code",
   "execution_count": 32,
   "metadata": {},
   "outputs": [
    {
     "name": "stdout",
     "output_type": "stream",
     "text": [
      "N = 10\n",
      "Média: 19.454545454545457\n",
      "Desvio padrão da média: 0.607985922570232\n",
      "\n",
      "N = 100\n",
      "Média: 19.97029702970297\n",
      "Desvio padrão da média: 0.20457249570346495\n",
      "\n",
      "N = 1000\n",
      "Média: 19.915084915084915\n",
      "Desvio padrão da média: 0.06360571356803127\n",
      "\n",
      "N = 100000000\n",
      "Média: 20.00015580999844\n",
      "Desvio padrão da média: 0.00019999818965742614\n"
     ]
    }
   ],
   "source": [
    "# Desafio bônus\n",
    "\n",
    "def simulation(n: int):\n",
    "    random_numbers = list[float]()\n",
    "    for i in range(0, n + 1):\n",
    "        random_numbers.append(random.randint(17, 23))\n",
    "    print(f\"N = {n}\")\n",
    "    print(f\"Média: {average(random_numbers)}\")\n",
    "    print(f\"Desvio padrão da média: {standard_deviation_from_the_mean(random_numbers)}\")\n",
    "\n",
    "simulation(10)\n",
    "print()\n",
    "simulation(100)\n",
    "print()\n",
    "simulation(1000)\n",
    "print()\n",
    "simulation(100000000)\n"
   ]
  },
  {
   "cell_type": "code",
   "execution_count": 36,
   "metadata": {},
   "outputs": [
    {
     "name": "stdout",
     "output_type": "stream",
     "text": [
      "Volume de um cilindro de 5cm de diâmetro e 12.5cm de comprimento: (245 +/- 5)cm\n"
     ]
    }
   ],
   "source": [
    "# Volume de um cilindro\n",
    "\n",
    "def cylinder_volume(diameter: float, length: float) -> float:\n",
    "    return (math.pi * math.pow(diameter, 2) * length) / 4\n",
    "\n",
    "def cylinder_volume_error(diameter: float, length: float, diameter_error: float, length_error: float) -> float:\n",
    "    length_error_factor = (math.pi * diameter ** 2 / 4) * length_error\n",
    "    diameter_error_factor = (math.pi * diameter * length / 2) * diameter_error\n",
    "    return math.sqrt(length_error_factor ** 2 + diameter_error_factor ** 2)\n",
    "\n",
    "print(\"Volume de um cilindro de 5cm de diâmetro e 12.5cm de comprimento: \", end = '')\n",
    "v = cylinder_volume(5.0, 12.5)\n",
    "sigma_v = cylinder_volume_error(5.0, 12.5, 0.05, 0.05)\n",
    "print(f\"({v:.0f} +/- {sigma_v:.0f})cm\")\n",
    "    "
   ]
  },
  {
   "cell_type": "code",
   "execution_count": 37,
   "metadata": {},
   "outputs": [
    {
     "name": "stdout",
     "output_type": "stream",
     "text": [
      "Aceleração da gravidade local, considerando a altura da queda igual a 2 metros e o tempo de queda(10.1 +/- 0.4)m/s^2\n"
     ]
    }
   ],
   "source": [
    "# Aceleração da gravidade\n",
    "\n",
    "def acceleration_of_gravity(height: float, time: float) -> float:\n",
    "    return 2 * height / (time ** 2)\n",
    "\n",
    "def acceleration_of_gravity_error(height: float, time: float, \n",
    "                                  height_error: float, time_error: float) -> float:\n",
    "    time_error_factor = -4 * height * time ** -3 * time_error\n",
    "    height_error_factor = 2 / time ** 2 * height_error\n",
    "    return math.sqrt(time_error_factor ** 2 + height_error_factor ** 2)\n",
    "\n",
    "print(\"Aceleração da gravidade local, considerando a altura da queda \" + \n",
    "      \"igual a 2 metros e o tempo de queda: \", end = '')\n",
    "g = acceleration_of_gravity(2.0, 0.63)\n",
    "sigma_g = acceleration_of_gravity_error(2.0, 0.63, 0.05, 0.01)\n",
    "print(f\"({round(g, 1)} +/- {round(sigma_g, 1)})m/s^2\")    "
   ]
  }
 ],
 "metadata": {
  "kernelspec": {
   "display_name": "Python 3",
   "language": "python",
   "name": "python3"
  },
  "language_info": {
   "codemirror_mode": {
    "name": "ipython",
    "version": 3
   },
   "file_extension": ".py",
   "mimetype": "text/x-python",
   "name": "python",
   "nbconvert_exporter": "python",
   "pygments_lexer": "ipython3",
   "version": "3.12.2"
  }
 },
 "nbformat": 4,
 "nbformat_minor": 2
}
