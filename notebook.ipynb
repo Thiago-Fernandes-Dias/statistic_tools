{
 "cells": [
  {
   "cell_type": "code",
   "execution_count": 27,
   "metadata": {},
   "outputs": [],
   "source": [
    "import math\n",
    "import random"
   ]
  },
  {
   "cell_type": "code",
   "execution_count": 28,
   "metadata": {},
   "outputs": [],
   "source": [
    "def sum(data: list[float]) -> float:\n",
    "    result = 0\n",
    "    for item in data:\n",
    "        result += item\n",
    "    return result"
   ]
  },
  {
   "cell_type": "code",
   "execution_count": 29,
   "metadata": {},
   "outputs": [],
   "source": [
    "def average(data: list[float]) -> float:\n",
    "    return (1 / len(data)) * sum(data)"
   ]
  },
  {
   "cell_type": "code",
   "execution_count": 30,
   "metadata": {},
   "outputs": [],
   "source": [
    "def standard_deviation(data: list[float]) -> float:\n",
    "    deviations = []\n",
    "    mean = average(data)\n",
    "    for item in data:\n",
    "        deviations.append(math.pow(item - mean, 2))\n",
    "    deviations_sum = sum(deviations)\n",
    "    return math.sqrt(deviations_sum / (len(data) - 1))"
   ]
  },
  {
   "cell_type": "code",
   "execution_count": 31,
   "metadata": {},
   "outputs": [],
   "source": [
    "def standard_deviation_from_the_mean(data: list[float]) -> float:\n",
    "    return standard_deviation(data) / math.sqrt(len(data))"
   ]
  },
  {
   "cell_type": "code",
   "execution_count": 32,
   "metadata": {},
   "outputs": [
    {
     "name": "stdout",
     "output_type": "stream",
     "text": [
      "Sigma square: 3.157773526077097\n",
      "X: 2.2020953716690044\n",
      "X square: 6.232584384852735\n",
      "Y: 36.190378681626925\n",
      "XY: 102.30364841514725\n",
      "a: 16.343523851536236\n",
      "b: 0.20038045139699534\n",
      "Delta a: 0.4784558257973233\n",
      "Delta b: 1.1944718814284074\n"
     ]
    }
   ],
   "source": [
    "from ctypes import ArgumentError\n",
    "\n",
    "def mmq_sigma_square(y_errors: list[float]) -> float:\n",
    "    items_to_sum = [1 / i ** 2 for i in y_errors]\n",
    "    return sum(items_to_sum)\n",
    "\n",
    "def mmq_x(xs: list[float], y_errors: list[float]) -> float:\n",
    "    if (len(xs) != len(y_errors)):\n",
    "        raise ArgumentError(xs)\n",
    "    items_to_sum = []\n",
    "    for xi, y_error_i in zip(xs, y_errors):\n",
    "        items_to_sum.append(xi / y_error_i ** 2)\n",
    "    return (1 / mmq_sigma_square(y_errors)) * sum(items_to_sum)\n",
    "\n",
    "def mmq_x_square(xs: list[float], y_errors: list[float]) -> float:\n",
    "    if (len(xs) != len(y_errors)):\n",
    "        raise ArgumentError(xs)\n",
    "    items_to_sum = []\n",
    "    for xi, y_error_i in zip(xs, y_errors):\n",
    "        items_to_sum.append(xi ** 2 / y_error_i ** 2)\n",
    "    return (1 / mmq_sigma_square(y_errors)) * sum(items_to_sum)\n",
    "\n",
    "def mmq_y(ys: list[float], y_errors: list[float]) -> float:\n",
    "    if (len(ys) != len(y_errors)):\n",
    "        raise ArgumentError(ys, y_errors)\n",
    "    items_to_sum = []\n",
    "    for yi, y_error_i in zip(ys, y_errors):\n",
    "        items_to_sum.append(yi / y_error_i ** 2)\n",
    "    return (1 / mmq_sigma_square(y_errors)) * sum(items_to_sum) \n",
    "\n",
    "def mmq_xy(xs: list[float], ys: list[float], y_errors: list[float]) -> float:\n",
    "    if (not (len(xs) == len(ys) and len(ys) == len(y_errors))):\n",
    "        raise ArgumentError(ys, xs, y_errors)\n",
    "    items_to_sum = []\n",
    "    for xi, yi, y_error_i in zip(xs, ys, y_errors):\n",
    "        items_to_sum.append(xi * yi / y_error_i ** 2)\n",
    "    return (1 / mmq_sigma_square(y_errors)) * sum(items_to_sum)\n",
    "\n",
    "def a(xs: list[float], ys: list[float], y_errors: list[float]) -> float:\n",
    "    x = mmq_x(xs, y_errors)\n",
    "    y = mmq_y(ys, y_errors)\n",
    "    xy = mmq_xy(xs, ys, y_errors)\n",
    "    x_square = mmq_x_square(xs, y_errors)\n",
    "    return (x * y - xy) / (x ** 2 - x_square)\n",
    "\n",
    "def b(xs: list[float], ys: list[float], y_errors: list[float]) -> float:\n",
    "    return mmq_y(ys, y_errors) - a(xs, ys, y_errors) * mmq_x(xs, y_errors)\n",
    "\n",
    "def a_error(xs: list[float], y_errors: list[float]) -> float:\n",
    "    sigma_square = mmq_sigma_square(y_errors)\n",
    "    x = mmq_x(xs, y_errors)\n",
    "    x_square = mmq_x_square(xs, y_errors)\n",
    "    return math.sqrt((1 / sigma_square) / (x_square - x ** 2))\n",
    "\n",
    "def b_error(xs: list[float], y_errors: list[float]) -> float:\n",
    "    sigma_square = mmq_sigma_square(y_errors)\n",
    "    x = mmq_x(xs, y_errors)\n",
    "    x_square = mmq_x_square(xs, y_errors)\n",
    "    return math.sqrt((x_square / sigma_square) / (x_square - x ** 2))\n",
    "\n",
    "y_errors = [0.8, 1.2, 1.4, 1.6]\n",
    "ys = [19.7, 37.9, 55.8, 73.5]\n",
    "xs = [1.194, 2.299, 3.415, 4.478]\n",
    "print(f\"Sigma square: {mmq_sigma_square(y_errors)}\")\n",
    "print(f\"X: {mmq_x(xs, y_errors)}\")\n",
    "print(f\"X square: {mmq_x_square(xs, y_errors)}\")\n",
    "print(f\"Y: {mmq_y(ys, y_errors)}\")\n",
    "print(f\"XY: {mmq_xy(xs, ys, y_errors)}\")\n",
    "print(f\"a: {a(xs, ys, y_errors)}\")\n",
    "print(f\"b: {b(xs, ys, y_errors)}\")\n",
    "print(f\"Delta a: {a_error(xs, y_errors)}\")\n",
    "print(f\"Delta b: {b_error(xs, y_errors)}\")"
   ]
  },
  {
   "cell_type": "code",
   "execution_count": 33,
   "metadata": {},
   "outputs": [
    {
     "name": "stdout",
     "output_type": "stream",
     "text": [
      "Média de L: 23.0\n",
      "Desvio padrão da média: 0.17320508075688815\n"
     ]
    }
   ],
   "source": [
    "# Teste\n",
    "\n",
    "data = [23.0, 22.7, 23.3]\n",
    "print(f\"Média de L: {average(data)}\")\n",
    "print(f\"Desvio padrão da média: {standard_deviation_from_the_mean(data)}\")"
   ]
  },
  {
   "cell_type": "code",
   "execution_count": 34,
   "metadata": {},
   "outputs": [
    {
     "name": "stdout",
     "output_type": "stream",
     "text": [
      "N = 10\n",
      "Média: 21.363636363636363\n",
      "Desvio padrão da média: 0.4321768845092622\n",
      "\n",
      "N = 100\n",
      "Média: 19.742574257425744\n",
      "Desvio padrão da média: 0.20081687897311304\n",
      "\n",
      "N = 1000\n",
      "Média: 20.062937062937063\n",
      "Desvio padrão da média: 0.06295293395181702\n"
     ]
    }
   ],
   "source": [
    "# Desafio bônus\n",
    "\n",
    "def simulation(n: int):\n",
    "    random_numbers = list[float]()\n",
    "    for i in range(0, n + 1):\n",
    "        random_numbers.append(random.randint(17, 23))\n",
    "    print(f\"N = {n}\")\n",
    "    print(f\"Média: {average(random_numbers)}\")\n",
    "    print(f\"Desvio padrão da média: {standard_deviation_from_the_mean(random_numbers)}\")\n",
    "\n",
    "simulation(10)\n",
    "print()\n",
    "simulation(100)\n",
    "print()\n",
    "simulation(1000)\n",
    "# simulation(100000000)\n"
   ]
  },
  {
   "cell_type": "code",
   "execution_count": 35,
   "metadata": {},
   "outputs": [
    {
     "name": "stdout",
     "output_type": "stream",
     "text": [
      "Volume de um cilindro de 5cm de diâmetro e 12.5cm de comprimento: (245 +/- 5)cm\n"
     ]
    }
   ],
   "source": [
    "# Volume de um cilindro\n",
    "\n",
    "def cylinder_volume(diameter: float, length: float) -> float:\n",
    "    return (math.pi * math.pow(diameter, 2) * length) / 4\n",
    "\n",
    "def cylinder_volume_error(diameter: float, length: float, diameter_error: float, length_error: float) -> float:\n",
    "    length_error_factor = (math.pi * diameter ** 2 / 4) * length_error\n",
    "    diameter_error_factor = (math.pi * diameter * length / 2) * diameter_error\n",
    "    return math.sqrt(length_error_factor ** 2 + diameter_error_factor ** 2)\n",
    "\n",
    "print(\"Volume de um cilindro de 5cm de diâmetro e 12.5cm de comprimento: \", end = '')\n",
    "v = cylinder_volume(5.0, 12.5)\n",
    "sigma_v = cylinder_volume_error(5.0, 12.5, 0.05, 0.05)\n",
    "print(f\"({v:.0f} +/- {sigma_v:.0f})cm\")\n",
    "    "
   ]
  },
  {
   "cell_type": "code",
   "execution_count": 36,
   "metadata": {},
   "outputs": [
    {
     "name": "stdout",
     "output_type": "stream",
     "text": [
      "Aceleração da gravidade local, considerando a altura da queda igual a 2 metros e o tempo de queda: (10.1 +/- 0.4)m/s^2\n"
     ]
    }
   ],
   "source": [
    "# Aceleração da gravidade\n",
    "\n",
    "def acceleration_of_gravity(height: float, time: float) -> float:\n",
    "    return 2 * height / (time ** 2)\n",
    "\n",
    "def acceleration_of_gravity_error(height: float, time: float, \n",
    "                                  height_error: float, time_error: float) -> float:\n",
    "    time_error_factor = -4 * height * time ** -3 * time_error\n",
    "    height_error_factor = 2 / time ** 2 * height_error\n",
    "    return math.sqrt(time_error_factor ** 2 + height_error_factor ** 2)\n",
    "\n",
    "print(\"Aceleração da gravidade local, considerando a altura da queda \" + \n",
    "      \"igual a 2 metros e o tempo de queda: \", end = '')\n",
    "g = acceleration_of_gravity(2.0, 0.63)\n",
    "sigma_g = acceleration_of_gravity_error(2.0, 0.63, 0.05, 0.01)\n",
    "print(f\"({round(g, 1)} +/- {round(sigma_g, 1)})m/s^2\")    "
   ]
  },
  {
   "cell_type": "code",
   "execution_count": 37,
   "metadata": {},
   "outputs": [],
   "source": [
    "# Velocidade e interteza\n",
    "def average_speed(cm: float, seconds: float) -> float:\n",
    "    return cm/seconds\n",
    "\n",
    "def average_speed_error(cm: float, seconds: float, cm_error: float, seconds_error: float) -> float:\n",
    "    cm_factor = (1/seconds) ** 2 * cm_error ** 2\n",
    "    seconds_factor = (-cm * seconds ** -2) * seconds_error ** 2\n",
    "    return math.sqrt(cm_factor + seconds_factor)"
   ]
  },
  {
   "cell_type": "code",
   "execution_count": 40,
   "metadata": {},
   "outputs": [
    {
     "name": "stdout",
     "output_type": "stream",
     "text": [
      "Média de L1 = 19.666666666666664\n",
      "Média de L2 = 18.233333333333334\n",
      "Média de L3 = 17.933333333333334\n",
      "Média de L4 = 17.73333333333333\n",
      "\n",
      "Média de △t1 = 1.1936666666666667\n",
      "Média de △t2 = 1.1046666666666667\n",
      "Média de △t1 = 1.1163333333333334\n",
      "Média de △t1 = 1.063333333333333\n",
      "\n",
      "Incerteza de L1 = 0.9562658858520694\n",
      "Incerteza de L2 = 1.071343911999213\n",
      "Incerteza de L3 = 1.0137937550497034\n",
      "Incerteza de L4 = 1.0397649306988148\n",
      "\n",
      "Incerteza de △t1 = 0.003382963855030707\n",
      "Incerteza de △t2 = 0.004807401700618657\n",
      "Incerteza de △t1 = 0.005897268670984666\n",
      "Incerteza de △t1 = 0.007881060278357912\n",
      "\n",
      "II - (16.499162479061976 +- 0.6699239362012609)\n",
      "II - (16.470588235294116 +- 0.81433321961953)\n",
      "III - (16.03942652329749 +- 0.716595218272593)\n",
      "IV - (16.65098777046096 +- 0.7522122773506197)\n",
      "\n",
      "Média: 16.4\n",
      "Desvio padrão: 0.27080128015453236\n",
      "Desvio padrão da média: 0.13540064007726618\n",
      "\n",
      "2.060728026693479\n"
     ]
    }
   ],
   "source": [
    "# Playground\n",
    "\n",
    "# Média dos comprimentos medidos\n",
    "print(f\"Média de L1 = {average([19.5, 21.4, 18.1])}\")\n",
    "print(f\"Média de L2 = {average([18.4, 20.0, 16.3])}\")\n",
    "print(f\"Média de L3 = {average([18.1, 19.6, 16.1])}\")\n",
    "print(f\"Média de L4 = {average([17.8, 19.5, 15.9])}\")\n",
    "print()\n",
    "\n",
    "# Média dos intervalos de tempo\n",
    "print(f\"Média de △t1 = {average([1.187, 1.196, 1.198])}\")\n",
    "print(f\"Média de △t2 = {average([1.098, 1.102, 1.114])}\")\n",
    "print(f\"Média de △t1 = {average([1.109, 1.112, 1.128])}\")\n",
    "print(f\"Média de △t1 = {average([1.057, 1.054, 1.079])}\")\n",
    "print()\n",
    "\n",
    "# Incerteza dos comprimentos medidos\n",
    "print(f\"Incerteza de L1 = {standard_deviation_from_the_mean([19.5, 21.4, 18.1])}\")\n",
    "print(f\"Incerteza de L2 = {standard_deviation_from_the_mean([18.4, 20.0, 16.3])}\")\n",
    "print(f\"Incerteza de L3 = {standard_deviation_from_the_mean([18.1, 19.6, 16.1])}\")\n",
    "print(f\"Incerteza de L4 = {standard_deviation_from_the_mean([17.8, 19.5, 15.9])}\")\n",
    "print()\n",
    "\n",
    "# Incerteza dos intervalos de tempo\n",
    "print(f\"Incerteza de △t1 = {standard_deviation_from_the_mean([1.187, 1.196, 1.198])}\")\n",
    "print(f\"Incerteza de △t2 = {standard_deviation_from_the_mean([1.098, 1.102, 1.114])}\")\n",
    "print(f\"Incerteza de △t1 = {standard_deviation_from_the_mean([1.109, 1.112, 1.128])}\")\n",
    "print(f\"Incerteza de △t1 = {standard_deviation_from_the_mean([1.057, 1.054, 1.079])}\")\n",
    "print()\n",
    "\n",
    "# Velocidades médias\n",
    "print(f\"II - ({average_speed(19.7, 1.194)} +- {average_speed_error(19.7, 1.194, 0.8, 0.003)})\")\n",
    "print(f\"II - ({average_speed(18.2, 1.105)} +- {average_speed_error(18.2, 1.105, 0.9, 0.004)})\")\n",
    "print(f\"III - ({average_speed(17.9, 1.116)} +- {average_speed_error(17.9, 1.116, 0.8, 0.005)})\")\n",
    "print(f\"IV - ({average_speed(17.7, 1.063)} +- {average_speed_error(17.7, 1.063, 0.8, 0.006)})\")\n",
    "print()\n",
    "\n",
    "# Velocidade média, considerando todos os segmentos\n",
    "speeds = [16.5, 16.5, 16.0, 16.6]\n",
    "print(f\"Média: {average(speeds)}\")\n",
    "print(f\"Desvio padrão: {standard_deviation(speeds)}\")\n",
    "print(f\"Desvio padrão da média: {standard_deviation_from_the_mean(speeds)}\")\n",
    "print()\n",
    "print(math.sqrt(1 ** 2 + 1.07 ** 2 + 1.01 ** 2 + 1.04 ** 2))"
   ]
  },
  {
   "cell_type": "code",
   "execution_count": null,
   "metadata": {},
   "outputs": [],
   "source": []
  }
 ],
 "metadata": {
  "kernelspec": {
   "display_name": "Python 3",
   "language": "python",
   "name": "python3"
  },
  "language_info": {
   "codemirror_mode": {
    "name": "ipython",
    "version": 3
   },
   "file_extension": ".py",
   "mimetype": "text/x-python",
   "name": "python",
   "nbconvert_exporter": "python",
   "pygments_lexer": "ipython3",
   "version": "3.12.2"
  }
 },
 "nbformat": 4,
 "nbformat_minor": 2
}
