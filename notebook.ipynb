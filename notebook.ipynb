{
 "cells": [
  {
   "cell_type": "code",
   "execution_count": 64,
   "metadata": {},
   "outputs": [],
   "source": [
    "import math\n",
    "import random"
   ]
  },
  {
   "cell_type": "code",
   "execution_count": 65,
   "metadata": {},
   "outputs": [],
   "source": [
    "def sum(data: list[float]) -> float:\n",
    "    result = 0\n",
    "    for item in data:\n",
    "        result += item\n",
    "    return result"
   ]
  },
  {
   "cell_type": "code",
   "execution_count": 66,
   "metadata": {},
   "outputs": [],
   "source": [
    "def average(data: list[float]) -> float:\n",
    "    return (1 / len(data)) * sum(data)"
   ]
  },
  {
   "cell_type": "code",
   "execution_count": 67,
   "metadata": {},
   "outputs": [],
   "source": [
    "def standard_deviation(data: list[float]) -> float:\n",
    "    deviations = []\n",
    "    mean = average(data)\n",
    "    for item in data:\n",
    "        deviations.append(math.pow(item - mean, 2))\n",
    "    deviations_sum = sum(deviations)\n",
    "    return math.sqrt(deviations_sum / (len(data) - 1))"
   ]
  },
  {
   "cell_type": "code",
   "execution_count": 68,
   "metadata": {},
   "outputs": [],
   "source": [
    "def standard_deviation_from_the_mean(data: list[float]) -> float:\n",
    "    return standard_deviation(data) / math.sqrt(len(data))"
   ]
  },
  {
   "cell_type": "code",
   "execution_count": 74,
   "metadata": {},
   "outputs": [
    {
     "name": "stdout",
     "output_type": "stream",
     "text": [
      "Sigma square: 2.106224842878328\n",
      "X: 0.6333414358157663\n",
      "X square: 0.41849914085746615\n",
      "Y: 30.684078622019197\n",
      "XY: 21.778017685763377\n",
      "a: 134.91487929210305\n",
      "b: -54.763104741752144\n",
      "deltaA: 5.226977797374939\n",
      "deltaB: 3.381410841254819\n"
     ]
    }
   ],
   "source": [
    "from ctypes import ArgumentError\n",
    "\n",
    "def mmq_sigma_square(y_errors: list[float]) -> float:\n",
    "    items_to_sum = [1 / i ** 2 for i in y_errors]\n",
    "    return sum(items_to_sum)\n",
    "\n",
    "def mmq_x(xs: list[float], y_errors: list[float]) -> float:\n",
    "    if (len(xs) != len(y_errors)):\n",
    "        raise ArgumentError(xs)\n",
    "    items_to_sum = []\n",
    "    for xi, y_error_i in zip(xs, y_errors):\n",
    "        items_to_sum.append(xi / y_error_i ** 2)\n",
    "    return (1 / mmq_sigma_square(y_errors)) * sum(items_to_sum)\n",
    "\n",
    "def mmq_x_square(xs: list[float], y_errors: list[float]) -> float:\n",
    "    if (len(xs) != len(y_errors)):\n",
    "        raise ArgumentError(xs)\n",
    "    items_to_sum = []\n",
    "    for xi, y_error_i in zip(xs, y_errors):\n",
    "        items_to_sum.append(xi ** 2 / y_error_i ** 2)\n",
    "    return (1 / mmq_sigma_square(y_errors)) * sum(items_to_sum)\n",
    "\n",
    "def mmq_y(ys: list[float], y_errors: list[float]) -> float:\n",
    "    if (len(ys) != len(y_errors)):\n",
    "        raise ArgumentError(ys, y_errors)\n",
    "    items_to_sum = []\n",
    "    for yi, y_error_i in zip(ys, y_errors):\n",
    "        items_to_sum.append(yi / y_error_i ** 2)\n",
    "    return (1 / mmq_sigma_square(y_errors)) * sum(items_to_sum) \n",
    "\n",
    "def mmq_xy(xs: list[float], ys: list[float], y_errors: list[float]) -> float:\n",
    "    if (not (len(xs) == len(ys) and len(ys) == len(y_errors))):\n",
    "        raise ArgumentError(ys, xs, y_errors)\n",
    "    items_to_sum = []\n",
    "    for xi, yi, y_error_i in zip(xs, ys, y_errors):\n",
    "        items_to_sum.append(xi * yi / y_error_i ** 2)\n",
    "    return (1 / mmq_sigma_square(y_errors)) * sum(items_to_sum)\n",
    "\n",
    "def mmq_a(xs: list[float], ys: list[float], y_errors: list[float]) -> float:\n",
    "    x = mmq_x(xs, y_errors)\n",
    "    y = mmq_y(ys, y_errors)\n",
    "    xy = mmq_xy(xs, ys, y_errors)\n",
    "    x_square = mmq_x_square(xs, y_errors)\n",
    "    return (x * y - xy) / (x ** 2 - x_square)\n",
    "\n",
    "def mmq_b(xs: list[float], ys: list[float], y_errors: list[float]) -> float:\n",
    "    return mmq_y(ys, y_errors) - mmq_a(xs, ys, y_errors) * mmq_x(xs, y_errors)\n",
    "\n",
    "def mmq_delta_a(xs: list[float], y_errors: list[float]) -> float:\n",
    "    sigma_square = mmq_sigma_square(y_errors)\n",
    "    x = mmq_x(xs, y_errors)\n",
    "    x_square = mmq_x_square(xs, y_errors)\n",
    "    return math.sqrt((1 / sigma_square) / (x_square - x ** 2))\n",
    "\n",
    "def mmq_delta_b(xs: list[float], y_errors: list[float]) -> float:\n",
    "    sigma_square = mmq_sigma_square(y_errors)\n",
    "    x = mmq_x(xs, y_errors)\n",
    "    x_square = mmq_x_square(xs, y_errors)\n",
    "    return math.sqrt((x_square / sigma_square) / (x_square - x ** 2))\n",
    "\n",
    "ys = [14.0, 32.0, 50, 68.0]\n",
    "y_errors = [1.0, 1.4, 1.7, 2]\n",
    "xs = [0.5, 0.7, 0.8, 0.8]\n",
    "print(f\"Sigma square: {mmq_sigma_square(y_errors)}\")\n",
    "print(f\"X: {mmq_x(xs, y_errors)}\")\n",
    "print(f\"X square: {mmq_x_square(xs, y_errors)}\")\n",
    "print(f\"Y: {mmq_y(ys, y_errors)}\")\n",
    "print(f\"XY: {mmq_xy(xs, ys, y_errors)}\")\n",
    "print(f\"a: {mmq_a(xs, ys, y_errors)}\")\n",
    "print(f\"b: {mmq_b(xs, ys, y_errors)}\")\n",
    "print(f\"deltaA: {mmq_delta_a(xs, y_errors)}\")\n",
    "print(f\"deltaB: {mmq_delta_b(xs, y_errors)}\")"
   ]
  },
  {
   "cell_type": "code",
   "execution_count": 73,
   "metadata": {},
   "outputs": [
    {
     "name": "stdout",
     "output_type": "stream",
     "text": [
      "L1\n",
      "Média de comprimento = 13.5 +- 1.1\n",
      "Média de tempo = 0.72 +- 0.01\n",
      "Velocidade Média: 18.66 +- 1.56\n",
      "\n",
      "L2\n",
      "Média de comprimento = 18.33 +- 1.12\n",
      "Média de tempo = 0.4 +- 0.01\n",
      "Velocidade Média: 46.06 +- 3.05\n",
      "\n",
      "L3\n",
      "Média de comprimento = 17.87 +- 0.95\n",
      "Média de tempo = 0.3 +- 0.01\n",
      "Velocidade Média: 59.7 +- 3.75\n",
      "\n",
      "L4\n",
      "Média de comprimento = 17.73 +- 0.98\n",
      "Média de tempo = 0.24 +- 0.01\n",
      "Velocidade Média: 72.88 +- 5.03\n",
      "\n"
     ]
    }
   ],
   "source": [
    "## Relatório 2 - FEMEC\n",
    "\n",
    "def erro_dos_intervalos(comprimentos: list[float]) -> float:\n",
    "    return math.sqrt(standard_deviation_from_the_mean(comprimentos) ** 2 + 0.05 ** 2)\n",
    "\n",
    "def erro_cronometro(tempos: list[float]) -> float:\n",
    "    return math.sqrt(standard_deviation_from_the_mean(tempos) ** 2 + 0.01 ** 2)\n",
    "\n",
    "def erro_velocidade(l: float, erroL: float, t: float, erroT: float) -> float:\n",
    "    return (l / t) * math.sqrt((erroL / l) ** 2 + (erroT / t) ** 2)\n",
    "    \n",
    "def show(intervalo: str, comprimentos: list[float], tempos: list[float]) -> None:\n",
    "    print(intervalo)\n",
    "    mediaComprimentos = average(comprimentos)\n",
    "    incertezaComprimentos = erro_dos_intervalos(comprimentos)\n",
    "    mediaTempos = average(tempos)\n",
    "    incertezaTempos = erro_cronometro(tempos)\n",
    "    v = mediaComprimentos / mediaTempos\n",
    "    erroV = erro_velocidade(mediaComprimentos, incertezaComprimentos, mediaTempos, incertezaTempos)\n",
    "    print(f\"Média de comprimento = {round(mediaComprimentos, 2)} +- {round(incertezaComprimentos, 2)}\")\n",
    "    print(f\"Média de tempo = {round(mediaTempos, 2)} +- {round(incertezaTempos, 2)}\")\n",
    "    print(f\"Velocidade Média: {round(v, 2)} +- {round(erroV, 2)}\")\n",
    "    print()\n",
    "    \n",
    "l1_medidas = [15.3, 13.7, 11.5]\n",
    "t1_medidas = [0.735, 0.727, 0.708]\n",
    "l2_medidas = [20.0, 18.8, 16.2]\n",
    "t2_medidas = [0.398, 0.398, 0.398]\n",
    "l3_medidas = [19.5, 17.9, 16.21]\n",
    "t3_medidas = [0.300, 0.299, 0.299]\n",
    "l4_medidas = [19.4, 17.8, 16.0]\n",
    "t4_medidas = [0.243, 0.244, 0.243]\n",
    "\n",
    "show(\"L1\", l1_medidas, t1_medidas)\n",
    "show(\"L2\", l2_medidas, t2_medidas)\n",
    "show(\"L3\", l3_medidas, t3_medidas)\n",
    "show(\"L4\", l4_medidas, t4_medidas)"
   ]
  }
 ],
 "metadata": {
  "kernelspec": {
   "display_name": "Python 3",
   "language": "python",
   "name": "python3"
  },
  "language_info": {
   "codemirror_mode": {
    "name": "ipython",
    "version": 3
   },
   "file_extension": ".py",
   "mimetype": "text/x-python",
   "name": "python",
   "nbconvert_exporter": "python",
   "pygments_lexer": "ipython3",
   "version": "3.12.2"
  }
 },
 "nbformat": 4,
 "nbformat_minor": 2
}
