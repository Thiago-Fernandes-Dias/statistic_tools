{
 "cells": [
  {
   "cell_type": "code",
   "execution_count": 29,
   "metadata": {},
   "outputs": [],
   "source": [
    "import math\n",
    "import matplotlib.pyplot as plt\n",
    "import numpy as np\n",
    "import matplotlib as mpl\n",
    "\n",
    "from typing import Callable\n",
    "from ctypes import ArgumentError"
   ]
  },
  {
   "cell_type": "code",
   "execution_count": 30,
   "metadata": {},
   "outputs": [],
   "source": [
    "def insertion_sort(numbers: list[float]) -> list[float]:\n",
    "    numbers_copy = numbers[:]\n",
    "    for i in range(0, len(numbers_copy) - 1):\n",
    "        for j in range(i + 1, 0, -1):\n",
    "            if numbers_copy[j] > numbers_copy[j - 1]:\n",
    "                tmp = numbers_copy[j]\n",
    "                numbers_copy[j] = numbers_copy[j - 1]\n",
    "                numbers_copy[j - 1] = tmp\n",
    "    return numbers_copy"
   ]
  },
  {
   "cell_type": "code",
   "execution_count": 31,
   "metadata": {},
   "outputs": [],
   "source": [
    "def sum(data: list[float]) -> float:\n",
    "    result = 0\n",
    "    for item in data:\n",
    "        result += item\n",
    "    return result"
   ]
  },
  {
   "cell_type": "code",
   "execution_count": 32,
   "metadata": {},
   "outputs": [
    {
     "ename": "SyntaxError",
     "evalue": "expected ':' (2255252210.py, line 15)",
     "output_type": "error",
     "traceback": [
      "\u001b[0;36m  Cell \u001b[0;32mIn[32], line 15\u001b[0;36m\u001b[0m\n\u001b[0;31m    if (data)\u001b[0m\n\u001b[0m             ^\u001b[0m\n\u001b[0;31mSyntaxError\u001b[0m\u001b[0;31m:\u001b[0m expected ':'\n"
     ]
    }
   ],
   "source": [
    "def average(data: list[float]) -> float:\n",
    "    return (1 / len(data)) * sum(data)\n",
    "\n",
    "def median(data: list[float]) -> float:\n",
    "    if len(data) % 2 != 0:\n",
    "        return data[math.floor(len(data) / 2)]\n",
    "    r = int(len(data) / 2) - 1\n",
    "    s = int(1 + len(data) / 2) - 1\n",
    "    return average([data[r], data[s]])\n",
    "\n",
    "def truncated_mean(data: list[float], cut: int) -> float:\n",
    "    return average(insertion_sort(data)[cut : len(data) - cut])\n",
    "\n",
    "def percentil(data: list[float], p: int) -> float:\n",
    "    if p < 0 or p > 100:\n",
    "        raise ArgumentError(p)"
   ]
  },
  {
   "cell_type": "code",
   "execution_count": null,
   "metadata": {},
   "outputs": [],
   "source": [
    "def list_map(l: list[float], predicate: Callable[[float], float]) -> list[float]:\n",
    "    return [predicate(i) for i in l]\n",
    "\n",
    "def inversion(x: float) -> float:\n",
    "    return 1 / x\n",
    "\n",
    "def i(x: float) -> float:\n",
    "    return x"
   ]
  },
  {
   "cell_type": "code",
   "execution_count": null,
   "metadata": {},
   "outputs": [],
   "source": [
    "def standard_deviation(data: list[float]) -> float:\n",
    "    deviations = []\n",
    "    mean = average(data)\n",
    "    for item in data:\n",
    "        deviations.append(math.pow(item - mean, 2))\n",
    "    deviations_sum = sum(deviations)\n",
    "    return math.sqrt(deviations_sum / (len(data)))"
   ]
  },
  {
   "cell_type": "code",
   "execution_count": null,
   "metadata": {},
   "outputs": [],
   "source": [
    "def standard_deviation_from_the_mean(data: list[float]) -> float:\n",
    "    return standard_deviation(data) / math.sqrt(len(data))"
   ]
  },
  {
   "cell_type": "code",
   "execution_count": null,
   "metadata": {},
   "outputs": [],
   "source": [
    "def mmq_sigma_square(y_errors: list[float]) -> float:\n",
    "    items_to_sum = [1 / i ** 2 for i in y_errors]\n",
    "    return sum(items_to_sum)\n",
    "\n",
    "def mmq_x(xs: list[float], y_errors: list[float]) -> float:\n",
    "    if (len(xs) != len(y_errors)):\n",
    "        raise ArgumentError(xs)\n",
    "    items_to_sum = []\n",
    "    for xi, y_error_i in zip(xs, y_errors):\n",
    "        items_to_sum.append(xi / y_error_i ** 2)\n",
    "    return (1 / mmq_sigma_square(y_errors)) * sum(items_to_sum)\n",
    "\n",
    "def mmq_x_square(xs: list[float], y_errors: list[float]) -> float:\n",
    "    if (len(xs) != len(y_errors)):\n",
    "        raise ArgumentError(xs)\n",
    "    items_to_sum = []\n",
    "    for xi, y_error_i in zip(xs, y_errors):\n",
    "        items_to_sum.append((xi ** 2) / (y_error_i ** 2))\n",
    "    return (1 / mmq_sigma_square(y_errors)) * sum(items_to_sum)\n",
    "\n",
    "def mmq_y(ys: list[float], y_errors: list[float]) -> float:\n",
    "    if (len(ys) != len(y_errors)):\n",
    "        raise ArgumentError(ys, y_errors)\n",
    "    items_to_sum = []\n",
    "    for yi, y_error_i in zip(ys, y_errors):\n",
    "        items_to_sum.append(yi / y_error_i ** 2)\n",
    "    return (1 / mmq_sigma_square(y_errors)) * sum(items_to_sum) \n",
    "\n",
    "def mmq_xy(xs: list[float], ys: list[float], y_errors: list[float]) -> float:\n",
    "    if (not (len(xs) == len(ys) and len(ys) == len(y_errors))):\n",
    "        raise ArgumentError(ys, xs, y_errors)\n",
    "    items_to_sum = []\n",
    "    for xi, yi, y_error_i in zip(xs, ys, y_errors):\n",
    "        items_to_sum.append((xi * yi) / y_error_i ** 2)\n",
    "    return (1 / mmq_sigma_square(y_errors)) * sum(items_to_sum)\n",
    "\n",
    "def mmq_a(xs: list[float], ys: list[float], y_errors: list[float]) -> float:\n",
    "    x = mmq_x(xs, y_errors)\n",
    "    y = mmq_y(ys, y_errors)\n",
    "    xy = mmq_xy(xs, ys, y_errors)\n",
    "    x_square = mmq_x_square(xs, y_errors)\n",
    "    return (x * y - xy) / (x ** 2 - x_square)\n",
    "\n",
    "def mmq_b(xs: list[float], ys: list[float], y_errors: list[float]) -> float:\n",
    "    return mmq_y(ys, y_errors) - mmq_a(xs, ys, y_errors) * mmq_x(xs, y_errors)\n",
    "\n",
    "def mmq_delta_a(xs: list[float], y_errors: list[float]) -> float:\n",
    "    sigma_square = mmq_sigma_square(y_errors)\n",
    "    x = mmq_x(xs, y_errors)\n",
    "    x_square = mmq_x_square(xs, y_errors)\n",
    "    return math.sqrt((1 / sigma_square) / (x_square - x ** 2))\n",
    "\n",
    "def mmq_delta_b(xs: list[float], y_errors: list[float]) -> float:\n",
    "    sigma_square = mmq_sigma_square(y_errors)\n",
    "    x = mmq_x(xs, y_errors)\n",
    "    x_square = mmq_x_square(xs, y_errors)\n",
    "    return math.sqrt((x_square / sigma_square) / (x_square - x ** 2))\n",
    "\n",
    "def alternative_mmq_a(xs: list[float], ys: list[float]) -> float:\n",
    "    x_average = average(xs)\n",
    "    y_average = average(ys)\n",
    "    y_sum = [yi - y_average for yi in ys]\n",
    "    x_sum = [xi - x_average for xi in xs]\n",
    "    return sum([xi * yi for xi, yi in zip(x_sum, y_sum)])/sum([xi ** 2 for xi in x_sum])"
   ]
  },
  {
   "cell_type": "code",
   "execution_count": null,
   "metadata": {},
   "outputs": [],
   "source": [
    "import numpy as np\n",
    "import matplotlib.pyplot as plt\n",
    "\n",
    "def draw_polynomial_interpolation_curve(xs: list[float], ys: list[float], degree: int) -> None:\n",
    "    x = np.array(xs)\n",
    "    y = np.array(ys)\n",
    "    p = np.polyfit(x, y, degree)\n",
    "    yfit = np.polyval(p, x)\n",
    "    p1 = np.polyder(p)\n",
    "    p2 = np.polyder(p1)\n",
    "    inflexion_points = sorted(np.roots(p2))\n",
    "    inflexion_values = [p for p in np.polyval(p, inflexion_points)]\n",
    "    print(f\"Coeficientes: {p}\")\n",
    "    print(f\"Raízes: {np.roots(p)}\")\n",
    "    print(f\"Pontos de inflexão: {inflexion_points}\")\n",
    "    print(f\"Valores de p nos pontos de inflexão: {inflexion_values}\")\n",
    "    plt.plot(x, y, 'o', label='Dados originais')\n",
    "    plt.plot(x, yfit, '-', label='Polinômio ajustado')\n",
    "    plt.legend()\n",
    "    plt.show()"
   ]
  }
 ],
 "metadata": {
  "kernelspec": {
   "display_name": "Python 3 (ipykernel)",
   "language": "python",
   "name": "python3"
  },
  "language_info": {
   "codemirror_mode": {
    "name": "ipython",
    "version": 3
   },
   "file_extension": ".py",
   "mimetype": "text/x-python",
   "name": "python",
   "nbconvert_exporter": "python",
   "pygments_lexer": "ipython3",
   "version": "3.12.4"
  }
 },
 "nbformat": 4,
 "nbformat_minor": 4
}
